{
 "cells": [
  {
   "cell_type": "code",
   "execution_count": 45,
   "id": "47c7683d",
   "metadata": {},
   "outputs": [],
   "source": [
    "import pandas as pd\n",
    "import math\n",
    "import pandas_datareader as pdr\n",
    "import matplotlib.pyplot as plt\n",
    "import numpy as np\n",
    "from sklearn.preprocessing import MinMaxScaler\n",
    "from tensorflow.keras.models import Sequential\n",
    "from tensorflow.keras.layers import Dense\n",
    "from tensorflow.keras.layers import LSTM"
   ]
  },
  {
   "cell_type": "markdown",
   "id": "9c51bfcc",
   "metadata": {},
   "source": [
    "## Importing data and converting data from API into .csv file"
   ]
  },
  {
   "cell_type": "code",
   "execution_count": 5,
   "id": "84928e84",
   "metadata": {},
   "outputs": [],
   "source": [
    "data = pdr.get_data_tiingo('AAPL',api_key='e3e7e224a5852fa038a05da5611bdb75239b3eca')"
   ]
  },
  {
   "cell_type": "code",
   "execution_count": 7,
   "id": "6d397fc4",
   "metadata": {},
   "outputs": [],
   "source": [
    "data.to_csv('AAPL.csv')"
   ]
  },
  {
   "cell_type": "code",
   "execution_count": 8,
   "id": "4778115b",
   "metadata": {},
   "outputs": [],
   "source": [
    "df = pd.read_csv('AAPL.csv')"
   ]
  },
  {
   "cell_type": "code",
   "execution_count": 9,
   "id": "9aaabc31",
   "metadata": {},
   "outputs": [
    {
     "data": {
      "text/html": [
       "<div>\n",
       "<style scoped>\n",
       "    .dataframe tbody tr th:only-of-type {\n",
       "        vertical-align: middle;\n",
       "    }\n",
       "\n",
       "    .dataframe tbody tr th {\n",
       "        vertical-align: top;\n",
       "    }\n",
       "\n",
       "    .dataframe thead th {\n",
       "        text-align: right;\n",
       "    }\n",
       "</style>\n",
       "<table border=\"1\" class=\"dataframe\">\n",
       "  <thead>\n",
       "    <tr style=\"text-align: right;\">\n",
       "      <th></th>\n",
       "      <th>symbol</th>\n",
       "      <th>date</th>\n",
       "      <th>close</th>\n",
       "      <th>high</th>\n",
       "      <th>low</th>\n",
       "      <th>open</th>\n",
       "      <th>volume</th>\n",
       "      <th>adjClose</th>\n",
       "      <th>adjHigh</th>\n",
       "      <th>adjLow</th>\n",
       "      <th>adjOpen</th>\n",
       "      <th>adjVolume</th>\n",
       "      <th>divCash</th>\n",
       "      <th>splitFactor</th>\n",
       "    </tr>\n",
       "  </thead>\n",
       "  <tbody>\n",
       "    <tr>\n",
       "      <th>0</th>\n",
       "      <td>AAPL</td>\n",
       "      <td>2016-06-15 00:00:00+00:00</td>\n",
       "      <td>97.14</td>\n",
       "      <td>98.41</td>\n",
       "      <td>97.030</td>\n",
       "      <td>97.82</td>\n",
       "      <td>29445227</td>\n",
       "      <td>22.683496</td>\n",
       "      <td>22.980058</td>\n",
       "      <td>22.657810</td>\n",
       "      <td>22.842285</td>\n",
       "      <td>117780908</td>\n",
       "      <td>0.0</td>\n",
       "      <td>1.0</td>\n",
       "    </tr>\n",
       "    <tr>\n",
       "      <th>1</th>\n",
       "      <td>AAPL</td>\n",
       "      <td>2016-06-16 00:00:00+00:00</td>\n",
       "      <td>97.55</td>\n",
       "      <td>97.75</td>\n",
       "      <td>96.070</td>\n",
       "      <td>96.45</td>\n",
       "      <td>31326815</td>\n",
       "      <td>22.779237</td>\n",
       "      <td>22.825940</td>\n",
       "      <td>22.433637</td>\n",
       "      <td>22.522372</td>\n",
       "      <td>125307260</td>\n",
       "      <td>0.0</td>\n",
       "      <td>1.0</td>\n",
       "    </tr>\n",
       "    <tr>\n",
       "      <th>2</th>\n",
       "      <td>AAPL</td>\n",
       "      <td>2016-06-17 00:00:00+00:00</td>\n",
       "      <td>95.33</td>\n",
       "      <td>96.65</td>\n",
       "      <td>95.300</td>\n",
       "      <td>96.62</td>\n",
       "      <td>61008219</td>\n",
       "      <td>22.260837</td>\n",
       "      <td>22.569075</td>\n",
       "      <td>22.253832</td>\n",
       "      <td>22.562069</td>\n",
       "      <td>244032876</td>\n",
       "      <td>0.0</td>\n",
       "      <td>1.0</td>\n",
       "    </tr>\n",
       "    <tr>\n",
       "      <th>3</th>\n",
       "      <td>AAPL</td>\n",
       "      <td>2016-06-20 00:00:00+00:00</td>\n",
       "      <td>95.10</td>\n",
       "      <td>96.57</td>\n",
       "      <td>95.030</td>\n",
       "      <td>96.00</td>\n",
       "      <td>34411901</td>\n",
       "      <td>22.207129</td>\n",
       "      <td>22.550394</td>\n",
       "      <td>22.190783</td>\n",
       "      <td>22.417291</td>\n",
       "      <td>137647604</td>\n",
       "      <td>0.0</td>\n",
       "      <td>1.0</td>\n",
       "    </tr>\n",
       "    <tr>\n",
       "      <th>4</th>\n",
       "      <td>AAPL</td>\n",
       "      <td>2016-06-21 00:00:00+00:00</td>\n",
       "      <td>95.91</td>\n",
       "      <td>96.35</td>\n",
       "      <td>94.676</td>\n",
       "      <td>94.94</td>\n",
       "      <td>35546358</td>\n",
       "      <td>22.396275</td>\n",
       "      <td>22.499021</td>\n",
       "      <td>22.108119</td>\n",
       "      <td>22.169767</td>\n",
       "      <td>142185432</td>\n",
       "      <td>0.0</td>\n",
       "      <td>1.0</td>\n",
       "    </tr>\n",
       "  </tbody>\n",
       "</table>\n",
       "</div>"
      ],
      "text/plain": [
       "  symbol                       date  close   high     low   open    volume  \\\n",
       "0   AAPL  2016-06-15 00:00:00+00:00  97.14  98.41  97.030  97.82  29445227   \n",
       "1   AAPL  2016-06-16 00:00:00+00:00  97.55  97.75  96.070  96.45  31326815   \n",
       "2   AAPL  2016-06-17 00:00:00+00:00  95.33  96.65  95.300  96.62  61008219   \n",
       "3   AAPL  2016-06-20 00:00:00+00:00  95.10  96.57  95.030  96.00  34411901   \n",
       "4   AAPL  2016-06-21 00:00:00+00:00  95.91  96.35  94.676  94.94  35546358   \n",
       "\n",
       "    adjClose    adjHigh     adjLow    adjOpen  adjVolume  divCash  splitFactor  \n",
       "0  22.683496  22.980058  22.657810  22.842285  117780908      0.0          1.0  \n",
       "1  22.779237  22.825940  22.433637  22.522372  125307260      0.0          1.0  \n",
       "2  22.260837  22.569075  22.253832  22.562069  244032876      0.0          1.0  \n",
       "3  22.207129  22.550394  22.190783  22.417291  137647604      0.0          1.0  \n",
       "4  22.396275  22.499021  22.108119  22.169767  142185432      0.0          1.0  "
      ]
     },
     "execution_count": 9,
     "metadata": {},
     "output_type": "execute_result"
    }
   ],
   "source": [
    "df.head()"
   ]
  },
  {
   "cell_type": "code",
   "execution_count": 11,
   "id": "5fa9a956",
   "metadata": {},
   "outputs": [
    {
     "data": {
      "text/plain": [
       "(1257, 14)"
      ]
     },
     "execution_count": 11,
     "metadata": {},
     "output_type": "execute_result"
    }
   ],
   "source": [
    "df.shape"
   ]
  },
  {
   "cell_type": "code",
   "execution_count": 12,
   "id": "fe12da11",
   "metadata": {},
   "outputs": [
    {
     "data": {
      "text/html": [
       "<div>\n",
       "<style scoped>\n",
       "    .dataframe tbody tr th:only-of-type {\n",
       "        vertical-align: middle;\n",
       "    }\n",
       "\n",
       "    .dataframe tbody tr th {\n",
       "        vertical-align: top;\n",
       "    }\n",
       "\n",
       "    .dataframe thead th {\n",
       "        text-align: right;\n",
       "    }\n",
       "</style>\n",
       "<table border=\"1\" class=\"dataframe\">\n",
       "  <thead>\n",
       "    <tr style=\"text-align: right;\">\n",
       "      <th></th>\n",
       "      <th>symbol</th>\n",
       "      <th>date</th>\n",
       "      <th>close</th>\n",
       "      <th>high</th>\n",
       "      <th>low</th>\n",
       "      <th>open</th>\n",
       "      <th>volume</th>\n",
       "      <th>adjClose</th>\n",
       "      <th>adjHigh</th>\n",
       "      <th>adjLow</th>\n",
       "      <th>adjOpen</th>\n",
       "      <th>adjVolume</th>\n",
       "      <th>divCash</th>\n",
       "      <th>splitFactor</th>\n",
       "    </tr>\n",
       "  </thead>\n",
       "  <tbody>\n",
       "    <tr>\n",
       "      <th>1252</th>\n",
       "      <td>AAPL</td>\n",
       "      <td>2021-06-07 00:00:00+00:00</td>\n",
       "      <td>125.90</td>\n",
       "      <td>126.32</td>\n",
       "      <td>124.8321</td>\n",
       "      <td>126.17</td>\n",
       "      <td>71057550</td>\n",
       "      <td>125.90</td>\n",
       "      <td>126.32</td>\n",
       "      <td>124.8321</td>\n",
       "      <td>126.17</td>\n",
       "      <td>71057550</td>\n",
       "      <td>0.0</td>\n",
       "      <td>1.0</td>\n",
       "    </tr>\n",
       "    <tr>\n",
       "      <th>1253</th>\n",
       "      <td>AAPL</td>\n",
       "      <td>2021-06-08 00:00:00+00:00</td>\n",
       "      <td>126.74</td>\n",
       "      <td>128.46</td>\n",
       "      <td>126.2101</td>\n",
       "      <td>126.60</td>\n",
       "      <td>74403774</td>\n",
       "      <td>126.74</td>\n",
       "      <td>128.46</td>\n",
       "      <td>126.2101</td>\n",
       "      <td>126.60</td>\n",
       "      <td>74403774</td>\n",
       "      <td>0.0</td>\n",
       "      <td>1.0</td>\n",
       "    </tr>\n",
       "    <tr>\n",
       "      <th>1254</th>\n",
       "      <td>AAPL</td>\n",
       "      <td>2021-06-09 00:00:00+00:00</td>\n",
       "      <td>127.13</td>\n",
       "      <td>127.75</td>\n",
       "      <td>126.5200</td>\n",
       "      <td>127.21</td>\n",
       "      <td>56877937</td>\n",
       "      <td>127.13</td>\n",
       "      <td>127.75</td>\n",
       "      <td>126.5200</td>\n",
       "      <td>127.21</td>\n",
       "      <td>56877937</td>\n",
       "      <td>0.0</td>\n",
       "      <td>1.0</td>\n",
       "    </tr>\n",
       "    <tr>\n",
       "      <th>1255</th>\n",
       "      <td>AAPL</td>\n",
       "      <td>2021-06-10 00:00:00+00:00</td>\n",
       "      <td>126.11</td>\n",
       "      <td>128.19</td>\n",
       "      <td>125.9400</td>\n",
       "      <td>127.02</td>\n",
       "      <td>71186421</td>\n",
       "      <td>126.11</td>\n",
       "      <td>128.19</td>\n",
       "      <td>125.9400</td>\n",
       "      <td>127.02</td>\n",
       "      <td>71186421</td>\n",
       "      <td>0.0</td>\n",
       "      <td>1.0</td>\n",
       "    </tr>\n",
       "    <tr>\n",
       "      <th>1256</th>\n",
       "      <td>AAPL</td>\n",
       "      <td>2021-06-11 00:00:00+00:00</td>\n",
       "      <td>127.35</td>\n",
       "      <td>127.44</td>\n",
       "      <td>126.1000</td>\n",
       "      <td>126.53</td>\n",
       "      <td>53522373</td>\n",
       "      <td>127.35</td>\n",
       "      <td>127.44</td>\n",
       "      <td>126.1000</td>\n",
       "      <td>126.53</td>\n",
       "      <td>53522373</td>\n",
       "      <td>0.0</td>\n",
       "      <td>1.0</td>\n",
       "    </tr>\n",
       "  </tbody>\n",
       "</table>\n",
       "</div>"
      ],
      "text/plain": [
       "     symbol                       date   close    high       low    open  \\\n",
       "1252   AAPL  2021-06-07 00:00:00+00:00  125.90  126.32  124.8321  126.17   \n",
       "1253   AAPL  2021-06-08 00:00:00+00:00  126.74  128.46  126.2101  126.60   \n",
       "1254   AAPL  2021-06-09 00:00:00+00:00  127.13  127.75  126.5200  127.21   \n",
       "1255   AAPL  2021-06-10 00:00:00+00:00  126.11  128.19  125.9400  127.02   \n",
       "1256   AAPL  2021-06-11 00:00:00+00:00  127.35  127.44  126.1000  126.53   \n",
       "\n",
       "        volume  adjClose  adjHigh    adjLow  adjOpen  adjVolume  divCash  \\\n",
       "1252  71057550    125.90   126.32  124.8321   126.17   71057550      0.0   \n",
       "1253  74403774    126.74   128.46  126.2101   126.60   74403774      0.0   \n",
       "1254  56877937    127.13   127.75  126.5200   127.21   56877937      0.0   \n",
       "1255  71186421    126.11   128.19  125.9400   127.02   71186421      0.0   \n",
       "1256  53522373    127.35   127.44  126.1000   126.53   53522373      0.0   \n",
       "\n",
       "      splitFactor  \n",
       "1252          1.0  \n",
       "1253          1.0  \n",
       "1254          1.0  \n",
       "1255          1.0  \n",
       "1256          1.0  "
      ]
     },
     "execution_count": 12,
     "metadata": {},
     "output_type": "execute_result"
    }
   ],
   "source": [
    "df.tail()"
   ]
  },
  {
   "cell_type": "code",
   "execution_count": 13,
   "id": "401d46c3",
   "metadata": {},
   "outputs": [],
   "source": [
    "df = df.reset_index()['close']"
   ]
  },
  {
   "cell_type": "code",
   "execution_count": 16,
   "id": "e75d7a53",
   "metadata": {},
   "outputs": [
    {
     "data": {
      "text/plain": [
       "[<matplotlib.lines.Line2D at 0x7fb093106160>]"
      ]
     },
     "execution_count": 16,
     "metadata": {},
     "output_type": "execute_result"
    },
    {
     "data": {
      "image/png": "[encoded data removed]",
      "text/plain": [
       "<Figure size 432x288 with 1 Axes>"
      ]
     },
     "metadata": {
      "needs_background": "light"
     },
     "output_type": "display_data"
    }
   ],
   "source": [
    "plt.plot(df)"
   ]
  },
  {
   "cell_type": "markdown",
   "id": "a554ba15",
   "metadata": {},
   "source": [
    "## Scaling Data"
   ]
  },
  {
   "cell_type": "code",
   "execution_count": 18,
   "id": "362f06a5",
   "metadata": {},
   "outputs": [],
   "source": [
    "scaler = MinMaxScaler(feature_range = (0,1))\n",
    "df = scaler.fit_transform(np.array(df).reshape(-1,1))"
   ]
  },
  {
   "cell_type": "code",
   "execution_count": 19,
   "id": "df5e4ebf",
   "metadata": {},
   "outputs": [
    {
     "data": {
      "text/plain": [
       "(1257, 1)"
      ]
     },
     "execution_count": 19,
     "metadata": {},
     "output_type": "execute_result"
    }
   ],
   "source": [
    "df.shape"
   ]
  },
  {
   "cell_type": "code",
   "execution_count": 20,
   "id": "2d8b528d",
   "metadata": {},
   "outputs": [
    {
     "data": {
      "text/plain": [
       "array([[0.01231735],\n",
       "       [0.01330757],\n",
       "       [0.0079459 ],\n",
       "       ...,\n",
       "       [0.08474822],\n",
       "       [0.08228475],\n",
       "       [0.08527956]])"
      ]
     },
     "execution_count": 20,
     "metadata": {},
     "output_type": "execute_result"
    }
   ],
   "source": [
    "df"
   ]
  },
  {
   "cell_type": "markdown",
   "id": "cf792ccf",
   "metadata": {},
   "source": [
    "## Train and Test splitting"
   ]
  },
  {
   "cell_type": "code",
   "execution_count": 21,
   "id": "fa22e210",
   "metadata": {},
   "outputs": [],
   "source": [
    "train_size = int(len(df)*0.70)\n",
    "test_size = int(len(df) - train_size)\n",
    "train_df,test_df = df[0:train_size,:],df[train_size:len(df),:1]"
   ]
  },
  {
   "cell_type": "code",
   "execution_count": 22,
   "id": "277c6c62",
   "metadata": {},
   "outputs": [
    {
     "data": {
      "text/plain": [
       "(879, 378)"
      ]
     },
     "execution_count": 22,
     "metadata": {},
     "output_type": "execute_result"
    }
   ],
   "source": [
    "train_size,test_size"
   ]
  },
  {
   "cell_type": "code",
   "execution_count": 25,
   "id": "9b535b1f",
   "metadata": {},
   "outputs": [],
   "source": [
    "def c_dataset(dataset, time_step = 1):\n",
    "    dataX, dataY = [], []\n",
    "    for i in range(len(dataset) - time_step - 1):\n",
    "        a = dataset[i:(i+time_step), 0]\n",
    "        dataX.append(a)\n",
    "        dataY.append(dataset[i + time_step, 0])\n",
    "    return np.array(dataX), np.array(dataY)"
   ]
  },
  {
   "cell_type": "code",
   "execution_count": 30,
   "id": "600103a8",
   "metadata": {},
   "outputs": [],
   "source": [
    "X_train, Y_train = c_dataset(train_df, 100)\n",
    "X_test, Y_test = c_dataset(test_df, 100)"
   ]
  },
  {
   "cell_type": "code",
   "execution_count": 34,
   "id": "29f6778f",
   "metadata": {},
   "outputs": [
    {
     "name": "stdout",
     "output_type": "stream",
     "text": [
      "(778, 100) (778,) (277, 100) (277,)\n"
     ]
    }
   ],
   "source": [
    "print(X_train.shape, Y_train.shape, X_test.shape, Y_test.shape)"
   ]
  },
  {
   "cell_type": "code",
   "execution_count": 35,
   "id": "f3472282",
   "metadata": {},
   "outputs": [],
   "source": [
    "X_train = X_train.reshape(X_train.shape[0], X_train.shape[1], 1)\n",
    "X_test = X_test.reshape(X_test.shape[0], X_test.shape[1], 1)"
   ]
  },
  {
   "cell_type": "code",
   "execution_count": 39,
   "id": "11cba944",
   "metadata": {},
   "outputs": [],
   "source": [
    "model = Sequential()\n",
    "model.add(LSTM(50,return_sequences = True, input_shape = (100,1)))\n",
    "model.add(LSTM(50,return_sequences = True))\n",
    "model.add(LSTM(50))\n",
    "model.add(Dense(1))\n",
    "model.compile(loss = 'mean_squared_error', optimizer = 'adam')"
   ]
  },
  {
   "cell_type": "code",
   "execution_count": 40,
   "id": "a92dd728",
   "metadata": {},
   "outputs": [
    {
     "name": "stdout",
     "output_type": "stream",
     "text": [
      "Model: \"sequential_1\"\n",
      "_________________________________________________________________\n",
      "Layer (type)                 Output Shape              Param #   \n",
      "=================================================================\n",
      "lstm (LSTM)                  (None, 100, 50)           10400     \n",
      "_________________________________________________________________\n",
      "lstm_1 (LSTM)                (None, 100, 50)           20200     \n",
      "_________________________________________________________________\n",
      "lstm_2 (LSTM)                (None, 50)                20200     \n",
      "_________________________________________________________________\n",
      "dense (Dense)                (None, 1)                 51        \n",
      "=================================================================\n",
      "Total params: 50,851\n",
      "Trainable params: 50,851\n",
      "Non-trainable params: 0\n",
      "_________________________________________________________________\n"
     ]
    }
   ],
   "source": [
    "model.summary()"
   ]
  },
  {
   "cell_type": "code",
   "execution_count": 42,
   "id": "f18b3398",
   "metadata": {},
   "outputs": [
    {
     "name": "stdout",
     "output_type": "stream",
     "text": [
      "Epoch 1/100\n",
      "13/13 [==============================] - 10s 328ms/step - loss: 0.0240 - val_loss: 0.0451\n",
      "Epoch 2/100\n",
      "13/13 [==============================] - 2s 178ms/step - loss: 0.0036 - val_loss: 0.0294\n",
      "Epoch 3/100\n",
      "13/13 [==============================] - 2s 177ms/step - loss: 0.0015 - val_loss: 0.0254\n",
      "Epoch 4/100\n",
      "13/13 [==============================] - 2s 176ms/step - loss: 7.9644e-04 - val_loss: 0.0285\n",
      "Epoch 5/100\n",
      "13/13 [==============================] - 2s 176ms/step - loss: 4.5511e-04 - val_loss: 0.0301\n",
      "Epoch 6/100\n",
      "13/13 [==============================] - 2s 180ms/step - loss: 4.8306e-04 - val_loss: 0.0268\n",
      "Epoch 7/100\n",
      "13/13 [==============================] - 2s 180ms/step - loss: 3.9813e-04 - val_loss: 0.0255\n",
      "Epoch 8/100\n",
      "13/13 [==============================] - 2s 181ms/step - loss: 4.1658e-04 - val_loss: 0.0253\n",
      "Epoch 9/100\n",
      "13/13 [==============================] - 2s 185ms/step - loss: 4.3005e-04 - val_loss: 0.0272\n",
      "Epoch 10/100\n",
      "13/13 [==============================] - 2s 178ms/step - loss: 3.9995e-04 - val_loss: 0.0261\n",
      "Epoch 11/100\n",
      "13/13 [==============================] - 2s 178ms/step - loss: 3.9927e-04 - val_loss: 0.0233\n",
      "Epoch 12/100\n",
      "13/13 [==============================] - 2s 188ms/step - loss: 3.4396e-04 - val_loss: 0.0227\n",
      "Epoch 13/100\n",
      "13/13 [==============================] - 2s 182ms/step - loss: 3.4231e-04 - val_loss: 0.0238\n",
      "Epoch 14/100\n",
      "13/13 [==============================] - 2s 180ms/step - loss: 3.4793e-04 - val_loss: 0.0204\n",
      "Epoch 15/100\n",
      "13/13 [==============================] - 2s 180ms/step - loss: 3.6252e-04 - val_loss: 0.0199\n",
      "Epoch 16/100\n",
      "13/13 [==============================] - 2s 181ms/step - loss: 2.7020e-04 - val_loss: 0.0202\n",
      "Epoch 17/100\n",
      "13/13 [==============================] - 2s 180ms/step - loss: 2.8077e-04 - val_loss: 0.0194\n",
      "Epoch 18/100\n",
      "13/13 [==============================] - 2s 180ms/step - loss: 2.8691e-04 - val_loss: 0.0193\n",
      "Epoch 19/100\n",
      "13/13 [==============================] - 2s 180ms/step - loss: 2.6549e-04 - val_loss: 0.0175\n",
      "Epoch 20/100\n",
      "13/13 [==============================] - 2s 181ms/step - loss: 2.9558e-04 - val_loss: 0.0167\n",
      "Epoch 21/100\n",
      "13/13 [==============================] - 2s 182ms/step - loss: 2.5831e-04 - val_loss: 0.0173\n",
      "Epoch 22/100\n",
      "13/13 [==============================] - 2s 182ms/step - loss: 2.6446e-04 - val_loss: 0.0154\n",
      "Epoch 23/100\n",
      "13/13 [==============================] - 2s 180ms/step - loss: 2.5468e-04 - val_loss: 0.0153\n",
      "Epoch 24/100\n",
      "13/13 [==============================] - 2s 181ms/step - loss: 2.3898e-04 - val_loss: 0.0152\n",
      "Epoch 25/100\n",
      "13/13 [==============================] - 2s 179ms/step - loss: 2.3751e-04 - val_loss: 0.0152\n",
      "Epoch 26/100\n",
      "13/13 [==============================] - 2s 183ms/step - loss: 2.2395e-04 - val_loss: 0.0153\n",
      "Epoch 27/100\n",
      "13/13 [==============================] - 2s 179ms/step - loss: 2.1916e-04 - val_loss: 0.0147\n",
      "Epoch 28/100\n",
      "13/13 [==============================] - 2s 180ms/step - loss: 2.3403e-04 - val_loss: 0.0151\n",
      "Epoch 29/100\n",
      "13/13 [==============================] - 2s 179ms/step - loss: 2.2533e-04 - val_loss: 0.0149\n",
      "Epoch 30/100\n",
      "13/13 [==============================] - 2s 180ms/step - loss: 2.3463e-04 - val_loss: 0.0144\n",
      "Epoch 31/100\n",
      "13/13 [==============================] - 2s 179ms/step - loss: 2.0687e-04 - val_loss: 0.0137\n",
      "Epoch 32/100\n",
      "13/13 [==============================] - 2s 183ms/step - loss: 2.3190e-04 - val_loss: 0.0147\n",
      "Epoch 33/100\n",
      "13/13 [==============================] - 2s 178ms/step - loss: 2.1153e-04 - val_loss: 0.0139\n",
      "Epoch 34/100\n",
      "13/13 [==============================] - 2s 180ms/step - loss: 2.0851e-04 - val_loss: 0.0138\n",
      "Epoch 35/100\n",
      "13/13 [==============================] - 2s 179ms/step - loss: 1.7394e-04 - val_loss: 0.0138\n",
      "Epoch 36/100\n",
      "13/13 [==============================] - 2s 185ms/step - loss: 1.9808e-04 - val_loss: 0.0142\n",
      "Epoch 37/100\n",
      "13/13 [==============================] - 2s 180ms/step - loss: 2.5735e-04 - val_loss: 0.0129\n",
      "Epoch 38/100\n",
      "13/13 [==============================] - 2s 181ms/step - loss: 2.0579e-04 - val_loss: 0.0131\n",
      "Epoch 39/100\n",
      "13/13 [==============================] - 2s 178ms/step - loss: 1.9209e-04 - val_loss: 0.0124\n",
      "Epoch 40/100\n",
      "13/13 [==============================] - 2s 181ms/step - loss: 2.4909e-04 - val_loss: 0.0125\n",
      "Epoch 41/100\n",
      "13/13 [==============================] - 2s 180ms/step - loss: 1.9276e-04 - val_loss: 0.0124\n",
      "Epoch 42/100\n",
      "13/13 [==============================] - 2s 180ms/step - loss: 1.9416e-04 - val_loss: 0.0127\n",
      "Epoch 43/100\n",
      "13/13 [==============================] - 2s 181ms/step - loss: 1.7639e-04 - val_loss: 0.0128\n",
      "Epoch 44/100\n",
      "13/13 [==============================] - 2s 181ms/step - loss: 1.8008e-04 - val_loss: 0.0122\n",
      "Epoch 45/100\n",
      "13/13 [==============================] - 3s 197ms/step - loss: 1.7517e-04 - val_loss: 0.0119\n",
      "Epoch 46/100\n",
      "13/13 [==============================] - 3s 251ms/step - loss: 1.8138e-04 - val_loss: 0.0118\n",
      "Epoch 47/100\n",
      "13/13 [==============================] - 3s 234ms/step - loss: 1.8182e-04 - val_loss: 0.0116\n",
      "Epoch 48/100\n",
      "13/13 [==============================] - 3s 228ms/step - loss: 1.8910e-04 - val_loss: 0.0128\n",
      "Epoch 49/100\n",
      "13/13 [==============================] - 2s 181ms/step - loss: 1.8458e-04 - val_loss: 0.0129\n",
      "Epoch 50/100\n",
      "13/13 [==============================] - 2s 185ms/step - loss: 2.4996e-04 - val_loss: 0.0110\n",
      "Epoch 51/100\n",
      "13/13 [==============================] - 2s 182ms/step - loss: 1.9174e-04 - val_loss: 0.0114\n",
      "Epoch 52/100\n",
      "13/13 [==============================] - 2s 188ms/step - loss: 2.7449e-04 - val_loss: 0.0149\n",
      "Epoch 53/100\n",
      "13/13 [==============================] - 2s 183ms/step - loss: 2.8516e-04 - val_loss: 0.0119\n",
      "Epoch 54/100\n",
      "13/13 [==============================] - 2s 180ms/step - loss: 1.8201e-04 - val_loss: 0.0111\n",
      "Epoch 55/100\n",
      "13/13 [==============================] - 2s 182ms/step - loss: 1.7135e-04 - val_loss: 0.0117\n",
      "Epoch 56/100\n",
      "13/13 [==============================] - 2s 181ms/step - loss: 1.6346e-04 - val_loss: 0.0114\n",
      "Epoch 57/100\n",
      "13/13 [==============================] - 2s 184ms/step - loss: 1.6210e-04 - val_loss: 0.0118\n",
      "Epoch 58/100\n",
      "13/13 [==============================] - 2s 181ms/step - loss: 1.5710e-04 - val_loss: 0.0114\n",
      "Epoch 59/100\n",
      "13/13 [==============================] - 2s 181ms/step - loss: 1.6358e-04 - val_loss: 0.0107\n",
      "Epoch 60/100\n",
      "13/13 [==============================] - 2s 183ms/step - loss: 1.6978e-04 - val_loss: 0.0125\n",
      "Epoch 61/100\n",
      "13/13 [==============================] - 2s 183ms/step - loss: 1.6644e-04 - val_loss: 0.0102\n",
      "Epoch 62/100\n",
      "13/13 [==============================] - 2s 182ms/step - loss: 1.8932e-04 - val_loss: 0.0111\n",
      "Epoch 63/100\n",
      "13/13 [==============================] - 2s 186ms/step - loss: 1.8260e-04 - val_loss: 0.0121\n",
      "Epoch 64/100\n",
      "13/13 [==============================] - 2s 182ms/step - loss: 1.6616e-04 - val_loss: 0.0110\n",
      "Epoch 65/100\n",
      "13/13 [==============================] - 2s 183ms/step - loss: 1.5227e-04 - val_loss: 0.0101\n",
      "Epoch 66/100\n",
      "13/13 [==============================] - 2s 181ms/step - loss: 1.7188e-04 - val_loss: 0.0106\n",
      "Epoch 67/100\n",
      "13/13 [==============================] - 2s 182ms/step - loss: 1.4937e-04 - val_loss: 0.0110\n",
      "Epoch 68/100\n",
      "13/13 [==============================] - 2s 181ms/step - loss: 1.4893e-04 - val_loss: 0.0101\n",
      "Epoch 69/100\n",
      "13/13 [==============================] - 2s 184ms/step - loss: 1.4953e-04 - val_loss: 0.0104\n",
      "Epoch 70/100\n",
      "13/13 [==============================] - 2s 181ms/step - loss: 1.4578e-04 - val_loss: 0.0123\n",
      "Epoch 71/100\n",
      "13/13 [==============================] - 2s 182ms/step - loss: 1.6436e-04 - val_loss: 0.0100\n",
      "Epoch 72/100\n",
      "13/13 [==============================] - 2s 182ms/step - loss: 1.3023e-04 - val_loss: 0.0107\n",
      "Epoch 73/100\n",
      "13/13 [==============================] - 2s 182ms/step - loss: 1.3349e-04 - val_loss: 0.0091\n",
      "Epoch 74/100\n",
      "13/13 [==============================] - 2s 181ms/step - loss: 1.3508e-04 - val_loss: 0.0094\n",
      "Epoch 75/100\n",
      "13/13 [==============================] - 2s 181ms/step - loss: 1.4041e-04 - val_loss: 0.0092\n",
      "Epoch 76/100\n",
      "13/13 [==============================] - 2s 186ms/step - loss: 1.3753e-04 - val_loss: 0.0092\n",
      "Epoch 77/100\n",
      "13/13 [==============================] - 2s 180ms/step - loss: 1.2533e-04 - val_loss: 0.0097\n",
      "Epoch 78/100\n"
     ]
    },
    {
     "name": "stdout",
     "output_type": "stream",
     "text": [
      "13/13 [==============================] - 2s 179ms/step - loss: 1.4035e-04 - val_loss: 0.0091\n",
      "Epoch 79/100\n",
      "13/13 [==============================] - 2s 178ms/step - loss: 1.1947e-04 - val_loss: 0.0090\n",
      "Epoch 80/100\n",
      "13/13 [==============================] - 3s 219ms/step - loss: 1.1621e-04 - val_loss: 0.0090\n",
      "Epoch 81/100\n",
      "13/13 [==============================] - 3s 187ms/step - loss: 1.1818e-04 - val_loss: 0.0084\n",
      "Epoch 82/100\n",
      "13/13 [==============================] - 2s 190ms/step - loss: 1.2446e-04 - val_loss: 0.0075\n",
      "Epoch 83/100\n",
      "13/13 [==============================] - 2s 179ms/step - loss: 1.7671e-04 - val_loss: 0.0082\n",
      "Epoch 84/100\n",
      "13/13 [==============================] - 2s 179ms/step - loss: 1.4858e-04 - val_loss: 0.0079\n",
      "Epoch 85/100\n",
      "13/13 [==============================] - 2s 181ms/step - loss: 1.1910e-04 - val_loss: 0.0085\n",
      "Epoch 86/100\n",
      "13/13 [==============================] - 2s 182ms/step - loss: 1.1919e-04 - val_loss: 0.0073\n",
      "Epoch 87/100\n",
      "13/13 [==============================] - 2s 180ms/step - loss: 1.5856e-04 - val_loss: 0.0070\n",
      "Epoch 88/100\n",
      "13/13 [==============================] - 2s 184ms/step - loss: 1.7385e-04 - val_loss: 0.0078\n",
      "Epoch 89/100\n",
      "13/13 [==============================] - 2s 182ms/step - loss: 1.2279e-04 - val_loss: 0.0087\n",
      "Epoch 90/100\n",
      "13/13 [==============================] - 2s 182ms/step - loss: 1.7735e-04 - val_loss: 0.0081\n",
      "Epoch 91/100\n",
      "13/13 [==============================] - 2s 179ms/step - loss: 1.1129e-04 - val_loss: 0.0079\n",
      "Epoch 92/100\n",
      "13/13 [==============================] - 2s 180ms/step - loss: 1.1754e-04 - val_loss: 0.0067\n",
      "Epoch 93/100\n",
      "13/13 [==============================] - 2s 186ms/step - loss: 1.2698e-04 - val_loss: 0.0077\n",
      "Epoch 94/100\n",
      "13/13 [==============================] - 3s 191ms/step - loss: 1.1444e-04 - val_loss: 0.0071\n",
      "Epoch 95/100\n",
      "13/13 [==============================] - 2s 182ms/step - loss: 1.0100e-04 - val_loss: 0.0065\n",
      "Epoch 96/100\n",
      "13/13 [==============================] - 2s 192ms/step - loss: 1.2352e-04 - val_loss: 0.0064\n",
      "Epoch 97/100\n",
      "13/13 [==============================] - 2s 184ms/step - loss: 1.4553e-04 - val_loss: 0.0060\n",
      "Epoch 98/100\n",
      "13/13 [==============================] - 2s 181ms/step - loss: 1.4206e-04 - val_loss: 0.0067\n",
      "Epoch 99/100\n",
      "13/13 [==============================] - 2s 182ms/step - loss: 1.0396e-04 - val_loss: 0.0063\n",
      "Epoch 100/100\n",
      "13/13 [==============================] - 2s 181ms/step - loss: 1.0601e-04 - val_loss: 0.0064\n"
     ]
    },
    {
     "data": {
      "text/plain": [
       "<tensorflow.python.keras.callbacks.History at 0x7fb02dcd42e0>"
      ]
     },
     "execution_count": 42,
     "metadata": {},
     "output_type": "execute_result"
    }
   ],
   "source": [
    "model.fit(X_train ,Y_train, validation_data = (X_test, Y_test), epochs = 100, batch_size = 64, verbose = 1)"
   ]
  },
  {
   "cell_type": "code",
   "execution_count": 43,
   "id": "930a2e41",
   "metadata": {},
   "outputs": [],
   "source": [
    "train_predict = model.predict(X_train)\n",
    "test_predict = model.predict(X_test)"
   ]
  },
  {
   "cell_type": "code",
   "execution_count": 44,
   "id": "ac148551",
   "metadata": {},
   "outputs": [],
   "source": [
    "train_predict = scaler.inverse_transform(train_predict)\n",
    "test_predict = scaler.inverse_transform(test_predict)"
   ]
  },
  {
   "cell_type": "code",
   "execution_count": 47,
   "id": "c3d63f6b",
   "metadata": {},
   "outputs": [
    {
     "data": {
      "text/plain": [
       "179.16689185076604"
      ]
     },
     "execution_count": 47,
     "metadata": {},
     "output_type": "execute_result"
    }
   ],
   "source": [
    "from sklearn.metrics import mean_squared_error\n",
    "math.sqrt(mean_squared_error(Y_train, train_predict))"
   ]
  },
  {
   "cell_type": "code",
   "execution_count": 48,
   "id": "7d458096",
   "metadata": {},
   "outputs": [
    {
     "data": {
      "text/plain": [
       "237.98586151059072"
      ]
     },
     "execution_count": 48,
     "metadata": {},
     "output_type": "execute_result"
    }
   ],
   "source": [
    "math.sqrt(mean_squared_error(Y_test, test_predict))"
   ]
  },
  {
   "cell_type": "code",
   "execution_count": null,
   "id": "c7aaeea0",
   "metadata": {},
   "outputs": [],
   "source": []
  }
 ],
 "metadata": {
  "kernelspec": {
   "display_name": "Python 3",
   "language": "python",
   "name": "python3"
  },
  "language_info": {
   "codemirror_mode": {
    "name": "ipython",
    "version": 3
   },
   "file_extension": ".py",
   "mimetype": "text/x-python",
   "name": "python",
   "nbconvert_exporter": "python",
   "pygments_lexer": "ipython3",
   "version": "3.8.5"
  }
 },
 "nbformat": 4,
 "nbformat_minor": 5
}
